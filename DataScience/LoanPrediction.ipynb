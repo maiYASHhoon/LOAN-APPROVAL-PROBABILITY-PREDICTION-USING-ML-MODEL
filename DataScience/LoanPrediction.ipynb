{
 "cells": [
  {
   "cell_type": "markdown",
   "metadata": {},
   "source": [
    "# Analysing Data"
   ]
  },
  {
   "cell_type": "code",
   "execution_count": 113,
   "metadata": {},
   "outputs": [
    {
     "data": {
      "text/html": [
       "<div>\n",
       "<style scoped>\n",
       "    .dataframe tbody tr th:only-of-type {\n",
       "        vertical-align: middle;\n",
       "    }\n",
       "\n",
       "    .dataframe tbody tr th {\n",
       "        vertical-align: top;\n",
       "    }\n",
       "\n",
       "    .dataframe thead th {\n",
       "        text-align: right;\n",
       "    }\n",
       "</style>\n",
       "<table border=\"1\" class=\"dataframe\">\n",
       "  <thead>\n",
       "    <tr style=\"text-align: right;\">\n",
       "      <th></th>\n",
       "      <th>Loan_ID</th>\n",
       "      <th>Gender</th>\n",
       "      <th>Married</th>\n",
       "      <th>Dependents</th>\n",
       "      <th>Education</th>\n",
       "      <th>Self_Employed</th>\n",
       "      <th>ApplicantIncome</th>\n",
       "      <th>CoapplicantIncome</th>\n",
       "      <th>Loan_Amount</th>\n",
       "      <th>Loan_Amount_Term</th>\n",
       "      <th>Credit_History</th>\n",
       "      <th>Property_Area</th>\n",
       "      <th>Loan_Status</th>\n",
       "    </tr>\n",
       "  </thead>\n",
       "  <tbody>\n",
       "    <tr>\n",
       "      <th>0</th>\n",
       "      <td>LP001002</td>\n",
       "      <td>Male</td>\n",
       "      <td>No</td>\n",
       "      <td>0</td>\n",
       "      <td>Graduate</td>\n",
       "      <td>No</td>\n",
       "      <td>58490</td>\n",
       "      <td>0.0</td>\n",
       "      <td>0</td>\n",
       "      <td>360.0</td>\n",
       "      <td>1.0</td>\n",
       "      <td>Urban</td>\n",
       "      <td>Y</td>\n",
       "    </tr>\n",
       "    <tr>\n",
       "      <th>1</th>\n",
       "      <td>LP001003</td>\n",
       "      <td>Male</td>\n",
       "      <td>Yes</td>\n",
       "      <td>1</td>\n",
       "      <td>Graduate</td>\n",
       "      <td>No</td>\n",
       "      <td>45830</td>\n",
       "      <td>12064.0</td>\n",
       "      <td>122880</td>\n",
       "      <td>360.0</td>\n",
       "      <td>1.0</td>\n",
       "      <td>Rural</td>\n",
       "      <td>N</td>\n",
       "    </tr>\n",
       "    <tr>\n",
       "      <th>2</th>\n",
       "      <td>LP001005</td>\n",
       "      <td>Male</td>\n",
       "      <td>Yes</td>\n",
       "      <td>0</td>\n",
       "      <td>Graduate</td>\n",
       "      <td>Yes</td>\n",
       "      <td>30000</td>\n",
       "      <td>0.0</td>\n",
       "      <td>63360</td>\n",
       "      <td>360.0</td>\n",
       "      <td>1.0</td>\n",
       "      <td>Urban</td>\n",
       "      <td>Y</td>\n",
       "    </tr>\n",
       "    <tr>\n",
       "      <th>3</th>\n",
       "      <td>LP001006</td>\n",
       "      <td>Male</td>\n",
       "      <td>Yes</td>\n",
       "      <td>0</td>\n",
       "      <td>Not Graduate</td>\n",
       "      <td>No</td>\n",
       "      <td>25830</td>\n",
       "      <td>18864.0</td>\n",
       "      <td>115200</td>\n",
       "      <td>360.0</td>\n",
       "      <td>1.0</td>\n",
       "      <td>Urban</td>\n",
       "      <td>Y</td>\n",
       "    </tr>\n",
       "    <tr>\n",
       "      <th>4</th>\n",
       "      <td>LP001008</td>\n",
       "      <td>Male</td>\n",
       "      <td>No</td>\n",
       "      <td>0</td>\n",
       "      <td>Graduate</td>\n",
       "      <td>No</td>\n",
       "      <td>60000</td>\n",
       "      <td>0.0</td>\n",
       "      <td>135360</td>\n",
       "      <td>360.0</td>\n",
       "      <td>1.0</td>\n",
       "      <td>Urban</td>\n",
       "      <td>Y</td>\n",
       "    </tr>\n",
       "  </tbody>\n",
       "</table>\n",
       "</div>"
      ],
      "text/plain": [
       "    Loan_ID Gender Married Dependents     Education Self_Employed  \\\n",
       "0  LP001002   Male      No          0      Graduate            No   \n",
       "1  LP001003   Male     Yes          1      Graduate            No   \n",
       "2  LP001005   Male     Yes          0      Graduate           Yes   \n",
       "3  LP001006   Male     Yes          0  Not Graduate            No   \n",
       "4  LP001008   Male      No          0      Graduate            No   \n",
       "\n",
       "   ApplicantIncome  CoapplicantIncome  Loan_Amount  Loan_Amount_Term  \\\n",
       "0            58490                0.0            0             360.0   \n",
       "1            45830            12064.0       122880             360.0   \n",
       "2            30000                0.0        63360             360.0   \n",
       "3            25830            18864.0       115200             360.0   \n",
       "4            60000                0.0       135360             360.0   \n",
       "\n",
       "   Credit_History Property_Area Loan_Status  \n",
       "0             1.0         Urban           Y  \n",
       "1             1.0         Rural           N  \n",
       "2             1.0         Urban           Y  \n",
       "3             1.0         Urban           Y  \n",
       "4             1.0         Urban           Y  "
      ]
     },
     "execution_count": 113,
     "metadata": {},
     "output_type": "execute_result"
    }
   ],
   "source": [
    "import pandas as pd\n",
    "import numpy as np\n",
    "\n",
    "data=pd.read_csv('Train_Loan_Home.csv')\n",
    "data.head()"
   ]
  },
  {
   "cell_type": "markdown",
   "metadata": {},
   "source": [
    "# Assigning features and targets "
   ]
  },
  {
   "cell_type": "code",
   "execution_count": 114,
   "metadata": {},
   "outputs": [],
   "source": [
    "columnsX=data.columns[1:-1]\n",
    "columnsY=data.columns[-1]"
   ]
  },
  {
   "cell_type": "markdown",
   "metadata": {},
   "source": [
    "# Checking the inappropriate values"
   ]
  },
  {
   "cell_type": "code",
   "execution_count": 115,
   "metadata": {},
   "outputs": [
    {
     "data": {
      "text/plain": [
       "Loan_ID               0\n",
       "Gender               13\n",
       "Married               3\n",
       "Dependents           15\n",
       "Education             0\n",
       "Self_Employed        32\n",
       "ApplicantIncome       0\n",
       "CoapplicantIncome     0\n",
       "Loan_Amount           0\n",
       "Loan_Amount_Term     14\n",
       "Credit_History       50\n",
       "Property_Area         0\n",
       "Loan_Status           0\n",
       "dtype: int64"
      ]
     },
     "execution_count": 115,
     "metadata": {},
     "output_type": "execute_result"
    }
   ],
   "source": [
    "data.isnull().sum()"
   ]
  },
  {
   "cell_type": "markdown",
   "metadata": {},
   "source": [
    "# defining categorical cols, numerical cols to easily manipluate the values by leaving it null or replace that values with median value of that column"
   ]
  },
  {
   "cell_type": "code",
   "execution_count": 116,
   "metadata": {},
   "outputs": [],
   "source": [
    "\n",
    "catCol=['Gependents']\n",
    "numWithScalingCol=['Apender','Married','Education','Self_Employed','Property_Area','DplicantIncome','CoapplicantIncome','Loan_Amount','Loan_Amount_Term']\n",
    "numerCol=['Credit_History']"
   ]
  },
  {
   "cell_type": "markdown",
   "metadata": {},
   "source": [
    "# Importing Libarires for defing Machine Learing Pipeline\n"
   ]
  },
  {
   "cell_type": "code",
   "execution_count": 117,
   "metadata": {},
   "outputs": [],
   "source": [
    "from sklearn.pipeline import Pipeline\n",
    "from sklearn.compose import ColumnTransformer\n",
    "from sklearn.impute import SimpleImputer\n",
    "from sklearn.preprocessing import StandardScaler, OneHotEncoder\n",
    "from sklearn import ensemble"
   ]
  },
  {
   "cell_type": "code",
   "execution_count": 118,
   "metadata": {},
   "outputs": [],
   "source": [
    "numeric_transformer_scaling = Pipeline(steps=[\n",
    "    ('imputer', SimpleImputer(strategy='median')),\n",
    "    ('scaler', StandardScaler())])\n",
    "\n",
    "numeric_transformer = Pipeline(steps=[\n",
    "    ('imputer', SimpleImputer(strategy='constant', fill_value=99))])\n",
    "\n",
    "categorical_transformer = Pipeline(steps=[\n",
    "    ('imputer', SimpleImputer(strategy='constant', fill_value='missing')),\n",
    "    ('onehot', OneHotEncoder(handle_unknown='ignore'))])\n",
    "\n",
    "\n",
    "preprocessor = ColumnTransformer(\n",
    "    transformers=[\n",
    "        ('num', numeric_transformer_scaling, numWithScalingCol),\n",
    "        ('num2', numeric_transformer, numerCol),\n",
    "        ('cat', categorical_transformer, catCol)])"
   ]
  },
  {
   "cell_type": "code",
   "execution_count": 119,
   "metadata": {},
   "outputs": [],
   "source": [
    "\n",
    "modelPipeline = Pipeline(steps=[('preprocessor', preprocessor),\n",
    "                      ('classifier', ensemble.RandomForestClassifier())])\n"
   ]
  },
  {
   "cell_type": "code",
   "execution_count": 120,
   "metadata": {},
   "outputs": [
    {
     "data": {
      "text/plain": [
       "Pipeline(steps=[('preprocessor',\n",
       "                 ColumnTransformer(transformers=[('num',\n",
       "                                                  Pipeline(steps=[('imputer',\n",
       "                                                                   SimpleImputer(strategy='median')),\n",
       "                                                                  ('scaler',\n",
       "                                                                   StandardScaler())]),\n",
       "                                                  ['ApplicantIncome',\n",
       "                                                   'CoapplicantIncome',\n",
       "                                                   'Loan_Amount',\n",
       "                                                   'Loan_Amount_Term']),\n",
       "                                                 ('num2',\n",
       "                                                  Pipeline(steps=[('imputer',\n",
       "                                                                   SimpleImputer(fill_value=99,\n",
       "                                                                                 strategy='constant'))]),\n",
       "                                                  ['Credit_History']),\n",
       "                                                 ('cat',\n",
       "                                                  Pipeline(steps=[('imputer',\n",
       "                                                                   SimpleImputer(fill_value='missing',\n",
       "                                                                                 strategy='constant')),\n",
       "                                                                  ('onehot',\n",
       "                                                                   OneHotEncoder(handle_unknown='ignore'))]),\n",
       "                                                  ['Gender', 'Married',\n",
       "                                                   'Education', 'Self_Employed',\n",
       "                                                   'Property_Area',\n",
       "                                                   'Dependents'])])),\n",
       "                ('classifier', RandomForestClassifier())])"
      ]
     },
     "execution_count": 120,
     "metadata": {},
     "output_type": "execute_result"
    }
   ],
   "source": [
    "modelPipeline.fit(data[columnsX],data[columnsY])"
   ]
  },
  {
   "cell_type": "markdown",
   "metadata": {},
   "source": [
    "# Predicted result from my ML pipeline\n"
   ]
  },
  {
   "cell_type": "code",
   "execution_count": 121,
   "metadata": {},
   "outputs": [],
   "source": [
    "scores=modelPipeline.predict_proba(data[columnsX])[:,-1]"
   ]
  },
  {
   "cell_type": "code",
   "execution_count": 122,
   "metadata": {},
   "outputs": [
    {
     "data": {
      "text/plain": [
       "array([0.89, 0.33, 0.91, 0.96, 0.99, 0.95, 0.91, 0.1 , 0.91, 0.21, 0.97,\n",
       "       0.98, 0.99, 0.34, 0.86, 0.95, 0.85, 0.  , 0.31, 0.96, 0.04, 0.9 ,\n",
       "       0.07, 0.06, 0.24, 0.96, 0.99, 0.94, 0.22, 0.93, 0.31, 0.29, 0.3 ,\n",
       "       0.99, 0.14, 0.95, 0.06, 0.99, 0.76, 0.99, 0.25, 0.88, 0.91, 0.99,\n",
       "       0.82, 0.89, 0.87, 0.94, 0.15, 0.97, 0.96, 0.98, 0.34, 0.31, 0.13,\n",
       "       0.99, 0.95, 0.36, 0.9 , 0.93, 0.97, 0.96, 0.07, 0.09, 0.06, 0.35,\n",
       "       0.09, 0.89, 0.93, 0.04, 0.94, 0.97, 0.91, 0.12, 0.95, 0.23, 0.25,\n",
       "       0.23, 0.08, 0.89, 0.95, 0.93, 0.26, 0.26, 0.89, 1.  , 0.99, 1.  ,\n",
       "       0.8 , 0.94, 1.  , 0.94, 0.94, 0.89, 0.82, 0.36, 0.99, 0.92, 0.89,\n",
       "       0.98, 0.91, 0.9 , 0.9 , 0.89, 0.88, 0.95, 0.96, 0.25, 0.08, 0.92,\n",
       "       1.  , 0.98, 0.04, 0.88, 0.94, 0.91, 0.99, 0.93, 0.28, 0.74, 0.8 ,\n",
       "       0.96, 0.76, 0.99, 0.82, 0.94, 0.83, 0.86, 0.08, 0.35, 0.71, 0.74,\n",
       "       0.93, 0.93, 0.93, 0.26, 0.14, 0.95, 0.07, 0.24, 0.34, 0.97, 0.89,\n",
       "       1.  , 0.96, 0.97, 0.88, 0.92, 0.18, 0.99, 0.03, 0.98, 0.26, 0.3 ,\n",
       "       0.94, 0.73, 0.88, 0.93, 0.94, 0.87, 0.98, 0.35, 0.06, 0.88, 0.95,\n",
       "       0.88, 0.14, 0.97, 0.05, 0.98, 0.91, 0.97, 0.24, 0.94, 0.4 , 0.93,\n",
       "       0.96, 0.19, 0.96, 0.03, 0.07, 0.35, 0.97, 0.36, 0.98, 0.91, 0.06,\n",
       "       0.9 , 0.79, 0.96, 0.83, 0.31, 0.22, 0.96, 0.97, 0.41, 0.89, 0.89,\n",
       "       0.98, 0.18, 0.97, 0.68, 0.21, 0.98, 0.97, 0.96, 0.87, 0.92, 0.89,\n",
       "       0.39, 0.31, 0.05, 0.92, 0.84, 0.95, 0.97, 0.39, 0.99, 0.11, 0.96,\n",
       "       0.11, 0.99, 0.98, 0.94, 0.95, 0.29, 0.33, 0.99, 0.88, 0.86, 0.99,\n",
       "       0.74, 0.93, 0.78, 0.95, 0.93, 0.3 , 0.93, 0.89, 0.99, 0.93, 0.32,\n",
       "       0.83, 0.92, 0.93, 0.34, 0.94, 0.87, 0.93, 0.98, 0.08, 0.29, 0.88,\n",
       "       0.87, 0.06, 0.84, 0.03, 0.36, 0.21, 0.25, 0.89, 0.97, 0.32, 0.93,\n",
       "       0.97, 0.95, 0.99, 0.69, 0.26, 0.92, 0.88, 0.94, 0.97, 0.99, 1.  ,\n",
       "       0.97, 0.99, 0.98, 0.87, 0.87, 0.14, 1.  , 0.96, 0.88, 0.24, 0.89,\n",
       "       0.27, 0.97, 0.9 , 0.9 , 0.95, 0.07, 0.97, 0.14, 0.98, 0.93, 0.95,\n",
       "       0.81, 0.29, 0.32, 0.02, 0.99, 0.95, 0.88, 0.99, 0.18, 0.93, 0.01,\n",
       "       0.18, 0.87, 0.98, 0.96, 0.78, 0.91, 0.27, 0.85, 0.98, 0.99, 0.91,\n",
       "       0.26, 1.  , 0.93, 0.84, 0.93, 0.86, 0.08, 0.66, 0.92, 0.19, 0.9 ,\n",
       "       0.92, 0.91, 0.8 , 0.85, 0.91, 0.94, 0.87, 0.97, 0.05, 0.94, 0.26,\n",
       "       0.25, 0.92, 0.89, 0.97, 0.97, 0.04, 0.99, 0.78, 0.98, 0.88, 0.22,\n",
       "       0.9 , 0.05, 1.  , 0.83, 0.9 , 0.35, 0.01, 0.91, 0.33, 0.97, 0.81,\n",
       "       0.98, 0.94, 0.25, 0.29, 0.11, 0.96, 0.22, 0.86, 0.99, 0.95, 0.12,\n",
       "       0.93, 0.95, 0.89, 0.9 , 0.14, 0.88, 0.95, 0.9 , 0.88, 0.85, 0.23,\n",
       "       0.95, 0.94, 0.01, 0.95, 0.93, 0.92, 0.97, 0.99, 0.96, 0.98, 0.96,\n",
       "       0.06, 0.99, 0.9 , 0.11, 0.1 , 0.25, 0.88, 0.95, 0.31, 0.73, 0.97,\n",
       "       0.79, 0.1 , 0.23, 0.33, 0.8 , 0.03, 0.91, 0.12, 0.97, 0.29, 0.25,\n",
       "       0.9 , 0.98, 0.92, 0.05, 0.94, 0.03, 0.9 , 1.  , 0.27, 0.99, 0.82,\n",
       "       0.71, 0.92, 0.02, 0.77, 1.  , 0.84, 0.93, 0.92, 0.96, 0.05, 0.83,\n",
       "       0.9 , 0.87, 0.89, 0.73, 0.88, 0.87, 0.86, 0.33, 0.06, 0.29, 0.07,\n",
       "       0.91, 0.03, 0.74, 0.92, 0.98, 0.9 , 0.32, 0.91, 0.3 , 0.92, 0.98,\n",
       "       0.93, 0.85, 0.08, 0.92, 0.09, 0.95, 0.88, 0.3 , 0.98, 0.08, 0.87,\n",
       "       0.92, 0.88, 0.94, 0.93, 0.09, 0.93, 0.46, 0.8 , 0.7 , 1.  , 0.92,\n",
       "       0.97, 0.9 , 0.03, 0.35, 0.94, 0.19, 0.97, 0.92, 0.87, 0.87, 0.05,\n",
       "       0.95, 0.9 , 0.84, 0.98, 0.09, 0.71, 0.97, 0.99, 0.25, 0.94, 0.93,\n",
       "       0.83, 0.34, 0.96, 0.89, 0.3 , 0.92, 0.97, 0.31, 0.21, 0.9 , 0.95,\n",
       "       0.06, 0.27, 0.33, 0.99, 0.94, 0.99, 0.96, 0.38, 0.91, 1.  , 0.67,\n",
       "       0.94, 0.92, 0.86, 0.89, 0.05, 0.26, 0.88, 0.94, 0.74, 0.96, 0.26,\n",
       "       0.96, 0.92, 0.09, 0.88, 0.91, 0.95, 0.95, 0.28, 0.94, 0.03, 1.  ,\n",
       "       0.03, 0.87, 0.84, 0.04, 0.13, 0.99, 0.95, 0.9 , 0.96, 0.94, 0.98,\n",
       "       0.93, 0.8 , 0.93, 0.06, 0.91, 0.78, 0.07, 0.31, 0.05, 0.91, 0.13,\n",
       "       0.9 , 0.28, 0.31, 0.94, 0.07, 0.93, 0.86, 0.93, 0.98, 0.22, 0.98,\n",
       "       0.18, 0.08, 0.29, 0.96, 0.94, 0.85, 0.06, 0.92, 0.35, 0.94, 0.93,\n",
       "       0.94, 0.92, 0.32, 0.13, 0.92, 0.88, 0.11, 0.92, 0.93, 0.89, 0.94,\n",
       "       0.32, 0.84, 0.78, 0.96, 0.92, 0.93, 0.98, 0.9 , 0.08])"
      ]
     },
     "execution_count": 122,
     "metadata": {},
     "output_type": "execute_result"
    }
   ],
   "source": [
    "scores"
   ]
  },
  {
   "cell_type": "code",
   "execution_count": 123,
   "metadata": {},
   "outputs": [],
   "source": [
    "data2=pd.read_csv('Test_Loan_Home.csv')"
   ]
  },
  {
   "cell_type": "code",
   "execution_count": 124,
   "metadata": {},
   "outputs": [],
   "source": [
    "scores=modelPipeline.predict_proba(data2[columnsX])[:,-1]"
   ]
  },
  {
   "cell_type": "code",
   "execution_count": 125,
   "metadata": {},
   "outputs": [],
   "source": [
    "scoreOutput={j:k for j,k in zip(data2['Loan_ID'],scores)}\n"
   ]
  },
  {
   "cell_type": "code",
   "execution_count": 126,
   "metadata": {},
   "outputs": [],
   "source": [
    "import joblib"
   ]
  },
  {
   "cell_type": "code",
   "execution_count": 132,
   "metadata": {},
   "outputs": [],
   "source": [
    "model = joblib.dump(modelPipeline,'modelPipeline.pkl')"
   ]
  }
 ],
 "metadata": {
  "kernelspec": {
   "display_name": "base",
   "language": "python",
   "name": "python3"
  },
  "language_info": {
   "codemirror_mode": {
    "name": "ipython",
    "version": 3
   },
   "file_extension": ".py",
   "mimetype": "text/x-python",
   "name": "python",
   "nbconvert_exporter": "python",
   "pygments_lexer": "ipython3",
   "version": "3.8.5"
  },
  "orig_nbformat": 4,
  "vscode": {
   "interpreter": {
    "hash": "81bfef7c0c1dbe1fe2ed73e3beafe0bd70f227a62615d22deafe4ad075bf1429"
   }
  }
 },
 "nbformat": 4,
 "nbformat_minor": 2
}
